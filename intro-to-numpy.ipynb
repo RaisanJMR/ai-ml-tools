{
 "cells": [
  {
   "cell_type": "markdown",
   "id": "97a89500-fc03-4750-a86b-4ecffe16becc",
   "metadata": {},
   "source": [
    "# Introduction to NumPy"
   ]
  },
  {
   "cell_type": "code",
   "execution_count": 1,
   "id": "2939ccd6-5ddf-4fd6-939a-0b10ea5998ee",
   "metadata": {},
   "outputs": [],
   "source": [
    "import numpy as np"
   ]
  },
  {
   "cell_type": "code",
   "execution_count": 2,
   "id": "ca7e8fc6-1a40-45b6-bdfc-f30325087c4d",
   "metadata": {},
   "outputs": [
    {
     "data": {
      "text/plain": [
       "array([1, 2, 3])"
      ]
     },
     "execution_count": 2,
     "metadata": {},
     "output_type": "execute_result"
    }
   ],
   "source": [
    "a1 = np.array([1,2,3])\n",
    "a1"
   ]
  },
  {
   "cell_type": "code",
   "execution_count": 3,
   "id": "aaf2f559-20e7-463d-ab22-26606b9568be",
   "metadata": {},
   "outputs": [
    {
     "data": {
      "text/plain": [
       "numpy.ndarray"
      ]
     },
     "execution_count": 3,
     "metadata": {},
     "output_type": "execute_result"
    }
   ],
   "source": [
    "type(a1)"
   ]
  },
  {
   "cell_type": "code",
   "execution_count": 4,
   "id": "8cd8ef98-eb9b-4852-afbc-4bf56dc8bc8b",
   "metadata": {},
   "outputs": [],
   "source": [
    "a2 = np.array([[1,2,3.33],[4.02,5,6]])\n",
    "a3 = np.array([[[1.1,2.05,6.35],[2.3,6.35,5.21],[6,8,2]],[[10,11,12],[13,14,15],[16,17,18]]])"
   ]
  },
  {
   "cell_type": "code",
   "execution_count": 5,
   "id": "82e89348-6a9b-459a-9316-9d15f3583efb",
   "metadata": {},
   "outputs": [
    {
     "data": {
      "text/plain": [
       "array([[1.  , 2.  , 3.33],\n",
       "       [4.02, 5.  , 6.  ]])"
      ]
     },
     "execution_count": 5,
     "metadata": {},
     "output_type": "execute_result"
    }
   ],
   "source": [
    "a2"
   ]
  },
  {
   "cell_type": "code",
   "execution_count": 6,
   "id": "3da11b8d-c0b1-401f-8a31-00c5a2fe6ef5",
   "metadata": {},
   "outputs": [
    {
     "data": {
      "text/plain": [
       "array([[[ 1.1 ,  2.05,  6.35],\n",
       "        [ 2.3 ,  6.35,  5.21],\n",
       "        [ 6.  ,  8.  ,  2.  ]],\n",
       "\n",
       "       [[10.  , 11.  , 12.  ],\n",
       "        [13.  , 14.  , 15.  ],\n",
       "        [16.  , 17.  , 18.  ]]])"
      ]
     },
     "execution_count": 6,
     "metadata": {},
     "output_type": "execute_result"
    }
   ],
   "source": [
    "a3"
   ]
  },
  {
   "cell_type": "code",
   "execution_count": null,
   "id": "d61df892-35eb-4881-b2f0-7e12340e6ce2",
   "metadata": {},
   "outputs": [],
   "source": []
  }
 ],
 "metadata": {
  "kernelspec": {
   "display_name": "Python 3 (ipykernel)",
   "language": "python",
   "name": "python3"
  },
  "language_info": {
   "codemirror_mode": {
    "name": "ipython",
    "version": 3
   },
   "file_extension": ".py",
   "mimetype": "text/x-python",
   "name": "python",
   "nbconvert_exporter": "python",
   "pygments_lexer": "ipython3",
   "version": "3.12.7"
  }
 },
 "nbformat": 4,
 "nbformat_minor": 5
}
